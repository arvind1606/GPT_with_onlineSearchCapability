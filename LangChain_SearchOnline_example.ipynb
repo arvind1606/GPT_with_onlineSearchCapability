{
 "cells": [
  {
   "cell_type": "markdown",
   "id": "0be49f0c-8e0b-4782-a9f1-038de253c60d",
   "metadata": {},
   "source": [
    "# Imports"
   ]
  },
  {
   "cell_type": "code",
   "execution_count": 19,
   "id": "33d8c758-66f3-4c6d-897a-8f7ee0d994ae",
   "metadata": {},
   "outputs": [],
   "source": [
    "import os\n",
    "import openai\n",
    "\n",
    "from langchain.chat_models import AzureChatOpenAI\n",
    "\n",
    "from langchain.agents import Tool\n",
    "from langchain.agents import initialize_agent\n",
    "from langchain.agents import AgentType"
   ]
  },
  {
   "cell_type": "markdown",
   "id": "fb71eec0-77f9-4c10-b0b6-258898a2af5b",
   "metadata": {},
   "source": [
    "# Setting the env variables"
   ]
  },
  {
   "cell_type": "code",
   "execution_count": 31,
   "id": "2efa49a5-351c-4a26-9ab3-4e1b36b39f09",
   "metadata": {},
   "outputs": [
    {
     "data": {
      "text/plain": [
       "True"
      ]
     },
     "execution_count": 31,
     "metadata": {},
     "output_type": "execute_result"
    }
   ],
   "source": [
    "from dotenv import load_dotenv\n",
    "load_dotenv()"
   ]
  },
  {
   "cell_type": "code",
   "execution_count": 29,
   "id": "a26917bc-2a98-4f42-bab2-f05099755f69",
   "metadata": {},
   "outputs": [],
   "source": [
    "# variables\n",
    "openai.api_key = os.getenv(\"api_key\")\n",
    "openai.api_base =  os.getenv(\"api_base\") \n",
    "openai.api_type = os.getenv(\"api_type\")\n",
    "openai.api_version = os.getenv(\"api_version\") # this may change in the future\n",
    "deployment_id=os.getenv(\"deployment_id_gpt_4\") \n",
    "\n",
    "gpt_model = os.getenv(\"deployment_id_gpt_4\") \n",
    "model_engine = os.getenv(\"deployment_id_gpt_4\") \n",
    "embd_model = 'text-embedding-ada-002'\n",
    "\n",
    "os.environ[\"OPENAI_API_TYPE\"] = os.getenv(\"api_type\")\n",
    "os.environ[\"OPENAI_API_VERSION\"] = os.getenv(\"api_version\")\n",
    "os.environ[\"OPENAI_API_BASE\"] = os.getenv(\"api_base\")\n",
    "os.environ[\"OPENAI_API_KEY\"] = os.getenv(\"api_key\")"
   ]
  },
  {
   "cell_type": "code",
   "execution_count": 22,
   "id": "ef2fd104-054c-4ddf-8a73-1769f7338058",
   "metadata": {},
   "outputs": [],
   "source": [
    "llm = AzureChatOpenAI(deployment_name=deployment_id,model_name=deployment_id, temperature=0.5)"
   ]
  },
  {
   "cell_type": "markdown",
   "id": "6e2f216a-bf94-4f06-8c65-9fe14a695c77",
   "metadata": {},
   "source": [
    "# Creating langchain agent with duck-duck-go search component tool."
   ]
  },
  {
   "cell_type": "code",
   "execution_count": 23,
   "id": "c32d1773-9ce9-4e69-99d6-d72f46dec0b7",
   "metadata": {},
   "outputs": [],
   "source": [
    "# !pip install duckduckgo-search"
   ]
  },
  {
   "cell_type": "code",
   "execution_count": 26,
   "id": "a10ec575-19c2-4e30-a8dc-d31055a627f2",
   "metadata": {},
   "outputs": [
    {
     "name": "stdout",
     "output_type": "stream",
     "text": [
      "\n",
      "\n",
      "\u001b[1m> Entering new AgentExecutor chain...\u001b[0m\n",
      "\u001b[32;1m\u001b[1;3mI need to find out who the reigning men's U.S. Open champion is and their hometown.\n",
      "Action: duckduckgo search\n",
      "Action Input: reigning men's U.S. Open champion hometown\u001b[0m\n",
      "Observation: \u001b[36;1m\u001b[1;3m[14] In the U.S. National Championships, Richard Sears (1881-1887), William Larned (1901-1902, 1907-1911) and Bill Tilden (1920-1925, 1929) hold the record for most titles in the men's singles, with seven victories each. Rafael Nadal was the reigning champion, but chose not to participate due to both safety concerns related to the ongoing COVID-19 pandemic and the short amount of time between the US Open and the rescheduled European clay season. The US Open increased its purse to $20m for 2023, up $2.5m on 2022 and double what it was in 2016. wyndham Clark earned $3.6 million for his first Major win, up from the $3.15 million Matt Fitzpatrick received in 2022 at The Country Club in Brookline, Massachusetts. Then there are the 100 Official World Golf Ranking points (enough for Rahm to ... Perhaps Tiafoe will be the one who ends the 19-year drought for a U.S. men's singles champion at the US Open. ... Beal, who plays for Tiafoe's hometown Washington Wizards, was front row in the ... Reigning men's PTO US Open champion Collin Chartier said that he was \"excited about defending his PTO US Open title in Milwaukee\". PTO heading to Singapore for first Asian event Paris 2024 ...\u001b[0m\n",
      "Thought:\u001b[32;1m\u001b[1;3mI need to find more specific information about the reigning men's U.S. Open champion and their hometown.\n",
      "Action: duckduckgo search\n",
      "Action Input: reigning men's U.S. Open champion 2021 hometown\u001b[0m\n",
      "Observation: \u001b[36;1m\u001b[1;3mDaniil Medvedev defeated Novak Djokovic in the final, 6-4, 6-4, 6-4 to win the men's singles tennis title at the 2021 US Open. It was his first major title and he only lost one set en route (against Botic van de Zandschulp in the quarterfinals). Medvedev became the third Russian man, after Yevgeny Kafelnikov and Marat Safin, to win a major singles title, and the first to do so since ... [14] In the U.S. National Championships, Richard Sears (1881-1887), William Larned (1901-1902, 1907-1911) and Bill Tilden (1920-1925, 1929) hold the record for most titles in the men's singles, with seven victories each. Wyndham Clark is the reigning US Open champion. Victory at the US Open at Los Angeles Country Club comes with a lot more than a trophy. But besides the honor of winning a Major, what does Wyndham Clark receive? Today's Golfer's 2023 Major coverage is brought to you in association with TaylorMade. Novak Djokovic defeated Carlos Alcaraz in the Cincinnati men's singles final, saving a match point before clinching the marathon win. ... With Alcaraz defending 2,000 ATP ranking points in New York as the reigning US Open champion, Djokovic is in prime position to return to the top spot after the year's final Grand Slam. Having missed the ... The Carlos Alcaraz era is here. On Sunday, he reached the sport's pinnacle in grand fashion on its biggest stage, packing the nearly 24,000 fans in the stadium onto his bandwagon as he claimed not...\u001b[0m\n",
      "Thought:\u001b[32;1m\u001b[1;3mI now know the final answer\n",
      "Final Answer: The reigning men's U.S. Open champion is Daniil Medvedev, and his hometown is Moscow, Russia.\u001b[0m\n",
      "\n",
      "\u001b[1m> Finished chain.\u001b[0m\n"
     ]
    },
    {
     "data": {
      "text/plain": [
       "\"The reigning men's U.S. Open champion is Daniil Medvedev, and his hometown is Moscow, Russia.\""
      ]
     },
     "execution_count": 26,
     "metadata": {},
     "output_type": "execute_result"
    }
   ],
   "source": [
    "from langchain.tools import DuckDuckGoSearchRun\n",
    "\n",
    "search = DuckDuckGoSearchRun()\n",
    "\n",
    "# You can create the tool to pass to an agent\n",
    "tools = [Tool(\n",
    "    name=\"duckduckgo search\",\n",
    "    description=\"Use this tool to find the relavent information about the query.\",\n",
    "    func=search.run,\n",
    ")]\n",
    "\n",
    "search_agent = initialize_agent(\n",
    "                                    tools, \n",
    "                                    llm, \n",
    "                                    agent=AgentType.ZERO_SHOT_REACT_DESCRIPTION, \n",
    "                                    verbose=True, \n",
    "                                    # max_execution_time=8,\n",
    "                                    max_iteration = 8,\n",
    "                                    early_stopping_method=\"generate\",\n",
    "                                    handle_parsing_errors=True,\n",
    "                                )\n",
    "\n",
    "# Triggering the query, response will be coming from DuckDuckGo Search\n",
    "search_agent.run(\n",
    "                    \"What is the hometown of the reigning men's U.S. Open champion?\"\n",
    "                )"
   ]
  },
  {
   "cell_type": "markdown",
   "id": "952c5a06-52da-4985-b5ed-899d6482e2f7",
   "metadata": {},
   "source": [
    "# Creating langchain agent with bing search component tool."
   ]
  },
  {
   "cell_type": "code",
   "execution_count": 30,
   "id": "58086366-f6a1-46bb-b46b-23f3bd3d7cf6",
   "metadata": {},
   "outputs": [
    {
     "name": "stdout",
     "output_type": "stream",
     "text": [
      "\n",
      "\n",
      "\u001b[1m> Entering new AgentExecutor chain...\u001b[0m\n",
      "\u001b[32;1m\u001b[1;3mI need to find out who the reigning men's U.S. Open champion is and then look up their hometown. \n",
      "Action: bing search\n",
      "Action Input: reigning men's U.S. Open champion\u001b[0m\n",
      "Observation: \u001b[36;1m\u001b[1;3m[{'snippet': '[14] In the <b>U.S</b>. National Championships, Richard Sears (1881–1887), William Larned (1901–1902, 1907–1911) and Bill Tilden (1920–1925, 1929) hold the record for most titles in the <b>men&#39;s</b> singles, with seven victories each.', 'title': 'List of US Open men&#39;s singles champions - Wikipedia', 'link': 'https://en.wikipedia.org/wiki/List_of_US_Open_men%27s_singles_champions'}]\u001b[0m\n",
      "Thought:\u001b[32;1m\u001b[1;3mI need to find the most recent men's U.S. Open champion.\n",
      "Action: bing search\n",
      "Action Input: 2021 men's U.S. Open champion\u001b[0m\n",
      "Observation: \u001b[36;1m\u001b[1;3m[{'snippet': 'Daniil Medvedev defeated Novak Djokovic in the final, 6–4, 6–4, 6–4 to win the <b>men&#39;s</b> singles tennis title at the <b>2021</b> <b>US</b> <b>Open</b>. It was his first major title and he only lost one set en route (against Botic van de Zandschulp in the quarterfinals). Medvedev became the third Russian man, after Yevgeny Kafelnikov and Marat Safin, to win a major singles title, and the first to do so since Safin at the 2005 Australian <b>Open</b>.. Dominic Thiem was the reigning <b>champion</b>, but did not participate due ...', 'title': '2021 US Open – Men&#39;s singles - Wikipedia', 'link': 'https://en.wikipedia.org/wiki/2021_US_Open_%E2%80%93_Men%27s_Singles'}]\u001b[0m\n",
      "Thought:\u001b[32;1m\u001b[1;3mI now know the reigning men's U.S. Open champion is Daniil Medvedev. I need to find his hometown.\n",
      "Action: bing search\n",
      "Action Input: Daniil Medvedev hometown\u001b[0m\n",
      "Observation: \u001b[36;1m\u001b[1;3m[{'snippet': '<b>Daniil Medvedev</b> was born in Moscow to Sergey <b>Medvedev</b> and Olga Medvedeva. <b>Daniil</b>&#39;s father, a computer engineer, developed his own business of building materials sales, from the mid-1980s to the early 2010s. [9] <b>Medvedev</b> has two older sisters named Julia and Elena, 12 and 8 years his senior, respectively.', 'title': 'Daniil Medvedev - Wikipedia', 'link': 'https://en.wikipedia.org/wiki/Daniil_Medvedev'}]\u001b[0m\n",
      "Thought:\u001b[32;1m\u001b[1;3mI now know the final answer.\n",
      "Final Answer: Moscow\u001b[0m\n",
      "\n",
      "\u001b[1m> Finished chain.\u001b[0m\n"
     ]
    },
    {
     "data": {
      "text/plain": [
       "'Moscow'"
      ]
     },
     "execution_count": 30,
     "metadata": {},
     "output_type": "execute_result"
    }
   ],
   "source": [
    "from langchain.utilities import BingSearchAPIWrapper\n",
    "\n",
    "\n",
    "\n",
    "os.environ[\"BING_SUBSCRIPTION_KEY\"] = os.getenv(\"BING_SEARCH_V7_SUBSCRIPTION_KEY\")\n",
    "os.environ[\"BING_SEARCH_URL\"] = os.getenv(\"BING_SEARCH_V7_ENDPOINT\") \n",
    "\n",
    "def func_search(query_str):\n",
    "    search = BingSearchAPIWrapper()\n",
    "    return search.results(query_str, 1)\n",
    "\n",
    "# You can create the tool to pass to an agent\n",
    "tools = [Tool(\n",
    "    name=\"bing search\",\n",
    "    description=\"Use this tool to find the relavent information about the query.\",\n",
    "    # func=search.run,\n",
    "    func=func_search\n",
    ")]\n",
    "\n",
    "search_agent = initialize_agent(\n",
    "                                    tools, \n",
    "                                    llm, \n",
    "                                    agent=AgentType.ZERO_SHOT_REACT_DESCRIPTION, \n",
    "                                    verbose=True, \n",
    "                                    # max_execution_time=8,\n",
    "                                    max_iteration = 8,\n",
    "                                    early_stopping_method=\"generate\",\n",
    "                                    handle_parsing_errors=True,\n",
    "                                )\n",
    "\n",
    "# Triggering the query, response will be coming from Bing\n",
    "search_agent.run(\n",
    "                    \"What is the hometown of the reigning men's U.S. Open champion?\"\n",
    "                )"
   ]
  },
  {
   "cell_type": "markdown",
   "id": "d54a4999-3af6-4472-a10c-416f4fade068",
   "metadata": {},
   "source": [
    "# Creating langchain agent with Google search component tool."
   ]
  },
  {
   "cell_type": "code",
   "execution_count": 32,
   "id": "a13998d5-2abc-4437-9c79-9cda1c30d652",
   "metadata": {},
   "outputs": [
    {
     "name": "stdout",
     "output_type": "stream",
     "text": [
      "\n",
      "\n",
      "\u001b[1m> Entering new AgentExecutor chain...\u001b[0m\n",
      "\u001b[32;1m\u001b[1;3mI need to find out who the reigning men's U.S. Open champion is and their hometown.\n",
      "Action: google api search\n",
      "Action Input: reigning men's U.S. Open champion hometown\u001b[0m\n",
      "Observation: \u001b[36;1m\u001b[1;3mThe US Open men's singles championship is an annual tennis tournament that is part of the US Open and was established in 1881. It is played on outdoor hard ... What is the hometown of the reigning men's U.S. Open champion? OpenAI. Params: {'model': 'text-davinci-002' ... Jul 25, 2023 ... \"What is the hometown of the reigning men's U.S. Open champion?\" ) Below the output from the agent, showing the follow up questions, ... List of Winners of the USA Open - Men's Singles ; 2018, Novak Đoković (Serbia), Juan Martín del Potro (Argentina) ; 2017, Rafael Nadal (Spain), Kevin Anderson ( ... Jun 15, 2020 ... World number one Novak Djokovic and reigning U.S. Open men's champion Rafa Nadal are among the players who have expressed concerns about ... Mar 31, 2018 ... That made the reigning U.S. Open champion especially eager to win the Miami Open before it moves 18 miles north next year to suburbia and ... Jul 22, 2019 ... Reigning World Junior Champion and San Clemente, California's own Kirra Pinkerton comes into this event as a qualification threat, currently ... Dec 9, 2020 ... Nine-time major winner Gary Player, one of the greats of men's golf, has lent his support to the campaign, while reigning U.S. Open champion ... Jun 3, 2017 ... This week in golf. Former New Jersey Open champion Kevin Foley and reigning State Open titlist Tyler Hall are among the New Jersey golfers ... Aug 20, 2016 ... Dusan Mandic led the way with four goals as Serbia won their first men's water polo gold medal.\u001b[0m\n",
      "Thought:\u001b[32;1m\u001b[1;3mI need to find the most recent men's U.S. Open champion and their hometown since the search results didn't provide a clear answer.\n",
      "Action: google api search\n",
      "Action Input: most recent men's U.S. Open champion hometown\u001b[0m\n",
      "Observation: \u001b[36;1m\u001b[1;3mThe US Open men's singles championship is an annual tennis tournament that is part of the US Open and was established in 1881. It is played on outdoor hard ... Sep 9, 2022 ... Roddick was also the last American man to win the US Open, in 2003. ... He calls the big three in men's tennis the \"Mount Rushmore guys,\" ... Apr 6, 2018 ... The 2003 US Open began with the official retirement of Pete Sampras, a five-time US Open champion and arguably the greatest American in ... Jun 15, 2023 ... Jake Williams, a two-time Paralympic wheelchair basketball gold ... Whitewater men's and women's players have represented the U.S. at the ... Aug 8, 2010 ... US Open of Surfing Final Day: Hometown Hero Brett Simpson Repeats 2009 Victory, Takes Home $100000 August 8, 2010 With the entire city of ... Entering new chain... What is the hometown of the reigning men's U.S. Open champion? Are follow up questions needed here: Yes. Oct 13, 2021 ... LONDON — At long last, Britain got the outpouring of national jubilation it has craved this summer, not from a men's soccer team that ... Sep 14, 2009 ... TANDIL, Argentina (Reuters) - Juan Martin del Potro's U.S. Open final ... Del Potro became the second Argentine to win the U.S. men's crown, ... Dec 8, 2022 ... Hometown: Prineville, Ore. Age: 26. Three-time All-American and 2019 NCAA finalist with 112 career wins. Took sixth at the 2022 U.S. Open, third ... Aug 6, 2017 ... And did they ever for the new Vans US Open of Surfing - Men's QS Champion and Huntington Beach native Kanoa Igarashi, who survived another ...\u001b[0m\n",
      "Thought:\u001b[32;1m\u001b[1;3mI still need to find the most recent men's U.S. Open champion and their hometown since the search results didn't provide a clear answer.\n",
      "Action: google api search\n",
      "Action Input: most recent men's U.S. Open tennis champion hometown\u001b[0m\n",
      "Observation: \u001b[36;1m\u001b[1;3mThe US Open men's singles championship is an annual tennis tournament that is part of the US Open and was established in 1881. It is played on outdoor hard ... Sep 9, 2022 ... Roddick was also the last American man to win the US Open, in 2003. ... He calls the big three in men's tennis the \"Mount Rushmore guys,\" ... At the US Open, Agassi overcame No.1 ranked and defending champion Lleyton Hewitt in the semi-finals. This led to what turned out to be the last duel between ... Apr 6, 2018 ... ... a five-time US Open champion and arguably the greatest American in men's tennis history. Enter Andy Roddick. The successor to Sampras as ... Jun 15, 2023 ... Jake Williams, a two-time Paralympic wheelchair basketball gold ... Whitewater men's and women's players have represented the U.S. at the ... Oct 13, 2021 ... Emma Raducanu celebrating her U.S. Open championship on Saturday. ... in her hometown, Bromley, and at the nearby tennis club that set her ... Dec 2, 2022 ... As the U.S. team gears up to face the Netherlands, get to know the 26 Americans on the World Cup squad. Aug 23, 2023 ... The world's top tennis players will descend upon New York for the final Grand Slam, including defending champs Carlos Alcaraz and Iga ... Aug 29, 2022 ... 2 in world junior rankings and recently the 24th best player in men's single tennis as of Aug. 8, Tiafoe will compete in the US Open in ... May 25, 2022 ... After his incredible win in the second round of the French Open, talk is turning to Carlos Alcaraz's chances of winning his first Grand Slam ...\u001b[0m\n",
      "Thought:\u001b[32;1m\u001b[1;3mI am still unable to find the most recent men's U.S. Open champion and their hometown from the search results. I will try one more search.\n",
      "Action: google api search\n",
      "Action Input: men's U.S. Open tennis champion 2021 hometown\u001b[0m\n",
      "Observation: \u001b[36;1m\u001b[1;3mCarlos Alcaraz Garfia is a Spanish professional tennis player. He is ranked as the world No. ... Alcaraz became the youngest US Open men's quarterfinalist in the Open Era ... Aug 18, 2021 ... Jenson Brooksby, Brandon Nakashima and Jack Sock are among the eight men who have been awarded 2021 US Open mens' singles wild cards. Frances Tiafoe Jr is an American professional tennis player. Tiafoe won his first of three ATP titles at the 2018 Delray Beach Open, ... He began with the US Men's Clay Court Championships in Houston, ... Oct 13, 2021 ... Emma Raducanu celebrating her U.S. Open championship on Saturday. ... pubs in her hometown, Bromley, and at the nearby tennis club that set ... The US Open men's singles championship is an annual tennis tournament that is part of the US Open and was established in 1881. It is played on outdoor hard ... Kyle Kang - Before Stanford Tennis Recruiting blue chip recruit, ranked as high as No. 1 in the country (2022) Quarter Finalist at US Open Junior Championship. 250 white stamp. San Diego Open, an ATP 250 tennis tournament in San Diego, California. San Diego San Diego, CA, U.S.A. September 19 - 25 2022. Jun 15, 2023 ... Twenty-six Whitewater men's and women's players have represented the U.S. at the Paralympics, plus 17 more for other nations, according to ... Aug 18, 2021 ... 8 Jack Sock and Ernesto Escobedo received main draw wild cards into the 2021 US Open, alongside NCAA singles champion Sam Riffice and USTA ... Year, Winner, Runner-up, Score. 2023. 2022, Carlos Alcaraz (Spain), Casper Ruud (Norway), 6–4, 2–6, 7–6(7–1), 6–3. 2021, Daniil Medvedev (Russia) ...\u001b[0m\n",
      "Thought:\u001b[32;1m\u001b[1;3mI found the most recent men's U.S. Open champion and their hometown.\n",
      "Final Answer: The reigning men's U.S. Open champion is Daniil Medvedev from Russia.\u001b[0m\n",
      "\n",
      "\u001b[1m> Finished chain.\u001b[0m\n"
     ]
    },
    {
     "data": {
      "text/plain": [
       "\"The reigning men's U.S. Open champion is Daniil Medvedev from Russia.\""
      ]
     },
     "execution_count": 32,
     "metadata": {},
     "output_type": "execute_result"
    }
   ],
   "source": [
    "from langchain.agents import Tool\n",
    "from langchain.utilities import GoogleSearchAPIWrapper\n",
    "\n",
    "os.environ[\"GOOGLE_CSE_ID\"] = os.getenv(\"GOOGLE_CSE_ID\")\n",
    "os.environ[\"GOOGLE_API_KEY\"] = os.getenv(\"GOOGLE_API_KEY\")\n",
    "\n",
    "search = GoogleSearchAPIWrapper()\n",
    "\n",
    "def top5_results(query):\n",
    "    res = search.results(query, 2)\n",
    "    print(res)\n",
    "    return res\n",
    "\n",
    "# You can create the tool to pass to an agent\n",
    "tools = [Tool(\n",
    "    name=\"google api search\",\n",
    "    description=\"Use this tool to find the relavent information about the query.\",\n",
    "    func=search.run,\n",
    "    # func = top5_results\n",
    ")]\n",
    "\n",
    "search_agent = initialize_agent(\n",
    "                                    tools, \n",
    "                                    llm, \n",
    "                                    agent=AgentType.ZERO_SHOT_REACT_DESCRIPTION, \n",
    "                                    verbose=True, \n",
    "                                    # max_execution_time=8,\n",
    "                                    max_iteration = 8,\n",
    "                                    early_stopping_method=\"generate\",\n",
    "                                    handle_parsing_errors=True,\n",
    "                                )\n",
    "\n",
    "# Triggering the query, response will be coming from Google\n",
    "search_agent.run(\n",
    "                    \"What is the hometown of the reigning men's U.S. Open champion?\"\n",
    "                )"
   ]
  },
  {
   "cell_type": "markdown",
   "id": "e8a78540-47d8-43f5-8a5b-1dd761bc4b3f",
   "metadata": {},
   "source": [
    "# Creating langchain agent with SERP API component tool."
   ]
  },
  {
   "cell_type": "code",
   "execution_count": 34,
   "id": "0115d3a6-1fde-4f17-948b-07141b11848a",
   "metadata": {},
   "outputs": [
    {
     "name": "stdout",
     "output_type": "stream",
     "text": [
      "\n",
      "\n",
      "\u001b[1m> Entering new AgentExecutor chain...\u001b[0m\n",
      "\u001b[32;1m\u001b[1;3mI need to find the reigning men's U.S. Open champion and their hometown.\n",
      "Action: Web search\n",
      "Action Input: reigning men's U.S. Open champion hometown\u001b[0m\n",
      "Observation: \u001b[36;1m\u001b[1;3mMonday, February 28, 2022. Daniil Medvedev achieved a major milestone at the 2021 US Open, when he won his first Grand Slam title in his third final. Fueled by the 2,000 ATP ranking points he gained from trophy run, the 26-year-old has now broken new …\u001b[0m\n",
      "Thought:\u001b[32;1m\u001b[1;3mI found the reigning men's U.S. Open champion, Daniil Medvedev. Now I need to find his hometown.\n",
      "Action: Web search\n",
      "Action Input: Daniil Medvedev hometown\u001b[0m"
     ]
    },
    {
     "ename": "ValueError",
     "evalue": "Got error from SerpAPI: Your account has run out of searches.",
     "output_type": "error",
     "traceback": [
      "\u001b[1;31m---------------------------------------------------------------------------\u001b[0m",
      "\u001b[1;31mValueError\u001b[0m                                Traceback (most recent call last)",
      "Cell \u001b[1;32mIn[34], line 31\u001b[0m\n\u001b[0;32m     15\u001b[0m tools \u001b[38;5;241m=\u001b[39m [Tool(\n\u001b[0;32m     16\u001b[0m     name\u001b[38;5;241m=\u001b[39m\u001b[38;5;124m\"\u001b[39m\u001b[38;5;124mWeb search\u001b[39m\u001b[38;5;124m\"\u001b[39m,\n\u001b[0;32m     17\u001b[0m     description\u001b[38;5;241m=\u001b[39m\u001b[38;5;124m\"\u001b[39m\u001b[38;5;124mUse this tool to find the relavent information about the query, the answer should be in just one word, if the answer is not found, respond with not_found.\u001b[39m\u001b[38;5;124m\"\u001b[39m,\n\u001b[0;32m     18\u001b[0m     func\u001b[38;5;241m=\u001b[39msearch\u001b[38;5;241m.\u001b[39mrun,\n\u001b[0;32m     19\u001b[0m )]\n\u001b[0;32m     21\u001b[0m search_agent \u001b[38;5;241m=\u001b[39m initialize_agent(\n\u001b[0;32m     22\u001b[0m                                     tools, \n\u001b[0;32m     23\u001b[0m                                     llm, \n\u001b[1;32m   (...)\u001b[0m\n\u001b[0;32m     29\u001b[0m                                     handle_parsing_errors\u001b[38;5;241m=\u001b[39m\u001b[38;5;28;01mTrue\u001b[39;00m,\n\u001b[0;32m     30\u001b[0m                                 )\n\u001b[1;32m---> 31\u001b[0m res \u001b[38;5;241m=\u001b[39m search_agent\u001b[38;5;241m.\u001b[39mrun(\n\u001b[0;32m     32\u001b[0m                     \u001b[38;5;124m\"\u001b[39m\u001b[38;5;124mWhat is the hometown of the reigning men\u001b[39m\u001b[38;5;124m'\u001b[39m\u001b[38;5;124ms U.S. Open champion?\u001b[39m\u001b[38;5;124m\"\u001b[39m\n\u001b[0;32m     33\u001b[0m                 )\n\u001b[0;32m     34\u001b[0m res\n",
      "File \u001b[1;32m~\\.conda\\envs\\py11\\Lib\\site-packages\\langchain\\chains\\base.py:481\u001b[0m, in \u001b[0;36mChain.run\u001b[1;34m(self, callbacks, tags, metadata, *args, **kwargs)\u001b[0m\n\u001b[0;32m    479\u001b[0m     \u001b[38;5;28;01mif\u001b[39;00m \u001b[38;5;28mlen\u001b[39m(args) \u001b[38;5;241m!=\u001b[39m \u001b[38;5;241m1\u001b[39m:\n\u001b[0;32m    480\u001b[0m         \u001b[38;5;28;01mraise\u001b[39;00m \u001b[38;5;167;01mValueError\u001b[39;00m(\u001b[38;5;124m\"\u001b[39m\u001b[38;5;124m`run` supports only one positional argument.\u001b[39m\u001b[38;5;124m\"\u001b[39m)\n\u001b[1;32m--> 481\u001b[0m     \u001b[38;5;28;01mreturn\u001b[39;00m \u001b[38;5;28mself\u001b[39m(args[\u001b[38;5;241m0\u001b[39m], callbacks\u001b[38;5;241m=\u001b[39mcallbacks, tags\u001b[38;5;241m=\u001b[39mtags, metadata\u001b[38;5;241m=\u001b[39mmetadata)[\n\u001b[0;32m    482\u001b[0m         _output_key\n\u001b[0;32m    483\u001b[0m     ]\n\u001b[0;32m    485\u001b[0m \u001b[38;5;28;01mif\u001b[39;00m kwargs \u001b[38;5;129;01mand\u001b[39;00m \u001b[38;5;129;01mnot\u001b[39;00m args:\n\u001b[0;32m    486\u001b[0m     \u001b[38;5;28;01mreturn\u001b[39;00m \u001b[38;5;28mself\u001b[39m(kwargs, callbacks\u001b[38;5;241m=\u001b[39mcallbacks, tags\u001b[38;5;241m=\u001b[39mtags, metadata\u001b[38;5;241m=\u001b[39mmetadata)[\n\u001b[0;32m    487\u001b[0m         _output_key\n\u001b[0;32m    488\u001b[0m     ]\n",
      "File \u001b[1;32m~\\.conda\\envs\\py11\\Lib\\site-packages\\langchain\\chains\\base.py:288\u001b[0m, in \u001b[0;36mChain.__call__\u001b[1;34m(self, inputs, return_only_outputs, callbacks, tags, metadata, include_run_info)\u001b[0m\n\u001b[0;32m    286\u001b[0m \u001b[38;5;28;01mexcept\u001b[39;00m (\u001b[38;5;167;01mKeyboardInterrupt\u001b[39;00m, \u001b[38;5;167;01mException\u001b[39;00m) \u001b[38;5;28;01mas\u001b[39;00m e:\n\u001b[0;32m    287\u001b[0m     run_manager\u001b[38;5;241m.\u001b[39mon_chain_error(e)\n\u001b[1;32m--> 288\u001b[0m     \u001b[38;5;28;01mraise\u001b[39;00m e\n\u001b[0;32m    289\u001b[0m run_manager\u001b[38;5;241m.\u001b[39mon_chain_end(outputs)\n\u001b[0;32m    290\u001b[0m final_outputs: Dict[\u001b[38;5;28mstr\u001b[39m, Any] \u001b[38;5;241m=\u001b[39m \u001b[38;5;28mself\u001b[39m\u001b[38;5;241m.\u001b[39mprep_outputs(\n\u001b[0;32m    291\u001b[0m     inputs, outputs, return_only_outputs\n\u001b[0;32m    292\u001b[0m )\n",
      "File \u001b[1;32m~\\.conda\\envs\\py11\\Lib\\site-packages\\langchain\\chains\\base.py:282\u001b[0m, in \u001b[0;36mChain.__call__\u001b[1;34m(self, inputs, return_only_outputs, callbacks, tags, metadata, include_run_info)\u001b[0m\n\u001b[0;32m    276\u001b[0m run_manager \u001b[38;5;241m=\u001b[39m callback_manager\u001b[38;5;241m.\u001b[39mon_chain_start(\n\u001b[0;32m    277\u001b[0m     dumpd(\u001b[38;5;28mself\u001b[39m),\n\u001b[0;32m    278\u001b[0m     inputs,\n\u001b[0;32m    279\u001b[0m )\n\u001b[0;32m    280\u001b[0m \u001b[38;5;28;01mtry\u001b[39;00m:\n\u001b[0;32m    281\u001b[0m     outputs \u001b[38;5;241m=\u001b[39m (\n\u001b[1;32m--> 282\u001b[0m         \u001b[38;5;28mself\u001b[39m\u001b[38;5;241m.\u001b[39m_call(inputs, run_manager\u001b[38;5;241m=\u001b[39mrun_manager)\n\u001b[0;32m    283\u001b[0m         \u001b[38;5;28;01mif\u001b[39;00m new_arg_supported\n\u001b[0;32m    284\u001b[0m         \u001b[38;5;28;01melse\u001b[39;00m \u001b[38;5;28mself\u001b[39m\u001b[38;5;241m.\u001b[39m_call(inputs)\n\u001b[0;32m    285\u001b[0m     )\n\u001b[0;32m    286\u001b[0m \u001b[38;5;28;01mexcept\u001b[39;00m (\u001b[38;5;167;01mKeyboardInterrupt\u001b[39;00m, \u001b[38;5;167;01mException\u001b[39;00m) \u001b[38;5;28;01mas\u001b[39;00m e:\n\u001b[0;32m    287\u001b[0m     run_manager\u001b[38;5;241m.\u001b[39mon_chain_error(e)\n",
      "File \u001b[1;32m~\\.conda\\envs\\py11\\Lib\\site-packages\\langchain\\agents\\agent.py:1039\u001b[0m, in \u001b[0;36mAgentExecutor._call\u001b[1;34m(self, inputs, run_manager)\u001b[0m\n\u001b[0;32m   1037\u001b[0m \u001b[38;5;66;03m# We now enter the agent loop (until it returns something).\u001b[39;00m\n\u001b[0;32m   1038\u001b[0m \u001b[38;5;28;01mwhile\u001b[39;00m \u001b[38;5;28mself\u001b[39m\u001b[38;5;241m.\u001b[39m_should_continue(iterations, time_elapsed):\n\u001b[1;32m-> 1039\u001b[0m     next_step_output \u001b[38;5;241m=\u001b[39m \u001b[38;5;28mself\u001b[39m\u001b[38;5;241m.\u001b[39m_take_next_step(\n\u001b[0;32m   1040\u001b[0m         name_to_tool_map,\n\u001b[0;32m   1041\u001b[0m         color_mapping,\n\u001b[0;32m   1042\u001b[0m         inputs,\n\u001b[0;32m   1043\u001b[0m         intermediate_steps,\n\u001b[0;32m   1044\u001b[0m         run_manager\u001b[38;5;241m=\u001b[39mrun_manager,\n\u001b[0;32m   1045\u001b[0m     )\n\u001b[0;32m   1046\u001b[0m     \u001b[38;5;28;01mif\u001b[39;00m \u001b[38;5;28misinstance\u001b[39m(next_step_output, AgentFinish):\n\u001b[0;32m   1047\u001b[0m         \u001b[38;5;28;01mreturn\u001b[39;00m \u001b[38;5;28mself\u001b[39m\u001b[38;5;241m.\u001b[39m_return(\n\u001b[0;32m   1048\u001b[0m             next_step_output, intermediate_steps, run_manager\u001b[38;5;241m=\u001b[39mrun_manager\n\u001b[0;32m   1049\u001b[0m         )\n",
      "File \u001b[1;32m~\\.conda\\envs\\py11\\Lib\\site-packages\\langchain\\agents\\agent.py:894\u001b[0m, in \u001b[0;36mAgentExecutor._take_next_step\u001b[1;34m(self, name_to_tool_map, color_mapping, inputs, intermediate_steps, run_manager)\u001b[0m\n\u001b[0;32m    892\u001b[0m         tool_run_kwargs[\u001b[38;5;124m\"\u001b[39m\u001b[38;5;124mllm_prefix\u001b[39m\u001b[38;5;124m\"\u001b[39m] \u001b[38;5;241m=\u001b[39m \u001b[38;5;124m\"\u001b[39m\u001b[38;5;124m\"\u001b[39m\n\u001b[0;32m    893\u001b[0m     \u001b[38;5;66;03m# We then call the tool on the tool input to get an observation\u001b[39;00m\n\u001b[1;32m--> 894\u001b[0m     observation \u001b[38;5;241m=\u001b[39m tool\u001b[38;5;241m.\u001b[39mrun(\n\u001b[0;32m    895\u001b[0m         agent_action\u001b[38;5;241m.\u001b[39mtool_input,\n\u001b[0;32m    896\u001b[0m         verbose\u001b[38;5;241m=\u001b[39m\u001b[38;5;28mself\u001b[39m\u001b[38;5;241m.\u001b[39mverbose,\n\u001b[0;32m    897\u001b[0m         color\u001b[38;5;241m=\u001b[39mcolor,\n\u001b[0;32m    898\u001b[0m         callbacks\u001b[38;5;241m=\u001b[39mrun_manager\u001b[38;5;241m.\u001b[39mget_child() \u001b[38;5;28;01mif\u001b[39;00m run_manager \u001b[38;5;28;01melse\u001b[39;00m \u001b[38;5;28;01mNone\u001b[39;00m,\n\u001b[0;32m    899\u001b[0m         \u001b[38;5;241m*\u001b[39m\u001b[38;5;241m*\u001b[39mtool_run_kwargs,\n\u001b[0;32m    900\u001b[0m     )\n\u001b[0;32m    901\u001b[0m \u001b[38;5;28;01melse\u001b[39;00m:\n\u001b[0;32m    902\u001b[0m     tool_run_kwargs \u001b[38;5;241m=\u001b[39m \u001b[38;5;28mself\u001b[39m\u001b[38;5;241m.\u001b[39magent\u001b[38;5;241m.\u001b[39mtool_run_logging_kwargs()\n",
      "File \u001b[1;32m~\\.conda\\envs\\py11\\Lib\\site-packages\\langchain\\tools\\base.py:352\u001b[0m, in \u001b[0;36mBaseTool.run\u001b[1;34m(self, tool_input, verbose, start_color, color, callbacks, tags, metadata, **kwargs)\u001b[0m\n\u001b[0;32m    350\u001b[0m \u001b[38;5;28;01mexcept\u001b[39;00m (\u001b[38;5;167;01mException\u001b[39;00m, \u001b[38;5;167;01mKeyboardInterrupt\u001b[39;00m) \u001b[38;5;28;01mas\u001b[39;00m e:\n\u001b[0;32m    351\u001b[0m     run_manager\u001b[38;5;241m.\u001b[39mon_tool_error(e)\n\u001b[1;32m--> 352\u001b[0m     \u001b[38;5;28;01mraise\u001b[39;00m e\n\u001b[0;32m    353\u001b[0m \u001b[38;5;28;01melse\u001b[39;00m:\n\u001b[0;32m    354\u001b[0m     run_manager\u001b[38;5;241m.\u001b[39mon_tool_end(\n\u001b[0;32m    355\u001b[0m         \u001b[38;5;28mstr\u001b[39m(observation), color\u001b[38;5;241m=\u001b[39mcolor, name\u001b[38;5;241m=\u001b[39m\u001b[38;5;28mself\u001b[39m\u001b[38;5;241m.\u001b[39mname, \u001b[38;5;241m*\u001b[39m\u001b[38;5;241m*\u001b[39mkwargs\n\u001b[0;32m    356\u001b[0m     )\n",
      "File \u001b[1;32m~\\.conda\\envs\\py11\\Lib\\site-packages\\langchain\\tools\\base.py:324\u001b[0m, in \u001b[0;36mBaseTool.run\u001b[1;34m(self, tool_input, verbose, start_color, color, callbacks, tags, metadata, **kwargs)\u001b[0m\n\u001b[0;32m    321\u001b[0m \u001b[38;5;28;01mtry\u001b[39;00m:\n\u001b[0;32m    322\u001b[0m     tool_args, tool_kwargs \u001b[38;5;241m=\u001b[39m \u001b[38;5;28mself\u001b[39m\u001b[38;5;241m.\u001b[39m_to_args_and_kwargs(parsed_input)\n\u001b[0;32m    323\u001b[0m     observation \u001b[38;5;241m=\u001b[39m (\n\u001b[1;32m--> 324\u001b[0m         \u001b[38;5;28mself\u001b[39m\u001b[38;5;241m.\u001b[39m_run(\u001b[38;5;241m*\u001b[39mtool_args, run_manager\u001b[38;5;241m=\u001b[39mrun_manager, \u001b[38;5;241m*\u001b[39m\u001b[38;5;241m*\u001b[39mtool_kwargs)\n\u001b[0;32m    325\u001b[0m         \u001b[38;5;28;01mif\u001b[39;00m new_arg_supported\n\u001b[0;32m    326\u001b[0m         \u001b[38;5;28;01melse\u001b[39;00m \u001b[38;5;28mself\u001b[39m\u001b[38;5;241m.\u001b[39m_run(\u001b[38;5;241m*\u001b[39mtool_args, \u001b[38;5;241m*\u001b[39m\u001b[38;5;241m*\u001b[39mtool_kwargs)\n\u001b[0;32m    327\u001b[0m     )\n\u001b[0;32m    328\u001b[0m \u001b[38;5;28;01mexcept\u001b[39;00m ToolException \u001b[38;5;28;01mas\u001b[39;00m e:\n\u001b[0;32m    329\u001b[0m     \u001b[38;5;28;01mif\u001b[39;00m \u001b[38;5;129;01mnot\u001b[39;00m \u001b[38;5;28mself\u001b[39m\u001b[38;5;241m.\u001b[39mhandle_tool_error:\n",
      "File \u001b[1;32m~\\.conda\\envs\\py11\\Lib\\site-packages\\langchain\\tools\\base.py:501\u001b[0m, in \u001b[0;36mTool._run\u001b[1;34m(self, run_manager, *args, **kwargs)\u001b[0m\n\u001b[0;32m    492\u001b[0m \u001b[38;5;28;01mif\u001b[39;00m \u001b[38;5;28mself\u001b[39m\u001b[38;5;241m.\u001b[39mfunc:\n\u001b[0;32m    493\u001b[0m     new_argument_supported \u001b[38;5;241m=\u001b[39m signature(\u001b[38;5;28mself\u001b[39m\u001b[38;5;241m.\u001b[39mfunc)\u001b[38;5;241m.\u001b[39mparameters\u001b[38;5;241m.\u001b[39mget(\u001b[38;5;124m\"\u001b[39m\u001b[38;5;124mcallbacks\u001b[39m\u001b[38;5;124m\"\u001b[39m)\n\u001b[0;32m    494\u001b[0m     \u001b[38;5;28;01mreturn\u001b[39;00m (\n\u001b[0;32m    495\u001b[0m         \u001b[38;5;28mself\u001b[39m\u001b[38;5;241m.\u001b[39mfunc(\n\u001b[0;32m    496\u001b[0m             \u001b[38;5;241m*\u001b[39margs,\n\u001b[0;32m    497\u001b[0m             callbacks\u001b[38;5;241m=\u001b[39mrun_manager\u001b[38;5;241m.\u001b[39mget_child() \u001b[38;5;28;01mif\u001b[39;00m run_manager \u001b[38;5;28;01melse\u001b[39;00m \u001b[38;5;28;01mNone\u001b[39;00m,\n\u001b[0;32m    498\u001b[0m             \u001b[38;5;241m*\u001b[39m\u001b[38;5;241m*\u001b[39mkwargs,\n\u001b[0;32m    499\u001b[0m         )\n\u001b[0;32m    500\u001b[0m         \u001b[38;5;28;01mif\u001b[39;00m new_argument_supported\n\u001b[1;32m--> 501\u001b[0m         \u001b[38;5;28;01melse\u001b[39;00m \u001b[38;5;28mself\u001b[39m\u001b[38;5;241m.\u001b[39mfunc(\u001b[38;5;241m*\u001b[39margs, \u001b[38;5;241m*\u001b[39m\u001b[38;5;241m*\u001b[39mkwargs)\n\u001b[0;32m    502\u001b[0m     )\n\u001b[0;32m    503\u001b[0m \u001b[38;5;28;01mraise\u001b[39;00m \u001b[38;5;167;01mNotImplementedError\u001b[39;00m(\u001b[38;5;124m\"\u001b[39m\u001b[38;5;124mTool does not support sync\u001b[39m\u001b[38;5;124m\"\u001b[39m)\n",
      "File \u001b[1;32m~\\.conda\\envs\\py11\\Lib\\site-packages\\langchain\\utilities\\serpapi.py:85\u001b[0m, in \u001b[0;36mSerpAPIWrapper.run\u001b[1;34m(self, query, **kwargs)\u001b[0m\n\u001b[0;32m     83\u001b[0m \u001b[38;5;28;01mdef\u001b[39;00m \u001b[38;5;21mrun\u001b[39m(\u001b[38;5;28mself\u001b[39m, query: \u001b[38;5;28mstr\u001b[39m, \u001b[38;5;241m*\u001b[39m\u001b[38;5;241m*\u001b[39mkwargs: Any) \u001b[38;5;241m-\u001b[39m\u001b[38;5;241m>\u001b[39m \u001b[38;5;28mstr\u001b[39m:\n\u001b[0;32m     84\u001b[0m \u001b[38;5;250m    \u001b[39m\u001b[38;5;124;03m\"\"\"Run query through SerpAPI and parse result.\"\"\"\u001b[39;00m\n\u001b[1;32m---> 85\u001b[0m     \u001b[38;5;28;01mreturn\u001b[39;00m \u001b[38;5;28mself\u001b[39m\u001b[38;5;241m.\u001b[39m_process_response(\u001b[38;5;28mself\u001b[39m\u001b[38;5;241m.\u001b[39mresults(query))\n",
      "File \u001b[1;32m~\\.conda\\envs\\py11\\Lib\\site-packages\\langchain\\utilities\\serpapi.py:131\u001b[0m, in \u001b[0;36mSerpAPIWrapper._process_response\u001b[1;34m(res)\u001b[0m\n\u001b[0;32m    129\u001b[0m \u001b[38;5;250m\u001b[39m\u001b[38;5;124;03m\"\"\"Process response from SerpAPI.\"\"\"\u001b[39;00m\n\u001b[0;32m    130\u001b[0m \u001b[38;5;28;01mif\u001b[39;00m \u001b[38;5;124m\"\u001b[39m\u001b[38;5;124merror\u001b[39m\u001b[38;5;124m\"\u001b[39m \u001b[38;5;129;01min\u001b[39;00m res\u001b[38;5;241m.\u001b[39mkeys():\n\u001b[1;32m--> 131\u001b[0m     \u001b[38;5;28;01mraise\u001b[39;00m \u001b[38;5;167;01mValueError\u001b[39;00m(\u001b[38;5;124mf\u001b[39m\u001b[38;5;124m\"\u001b[39m\u001b[38;5;124mGot error from SerpAPI: \u001b[39m\u001b[38;5;132;01m{\u001b[39;00mres[\u001b[38;5;124m'\u001b[39m\u001b[38;5;124merror\u001b[39m\u001b[38;5;124m'\u001b[39m]\u001b[38;5;132;01m}\u001b[39;00m\u001b[38;5;124m\"\u001b[39m)\n\u001b[0;32m    132\u001b[0m \u001b[38;5;28;01mif\u001b[39;00m \u001b[38;5;124m\"\u001b[39m\u001b[38;5;124manswer_box\u001b[39m\u001b[38;5;124m\"\u001b[39m \u001b[38;5;129;01min\u001b[39;00m res\u001b[38;5;241m.\u001b[39mkeys() \u001b[38;5;129;01mand\u001b[39;00m \u001b[38;5;28misinstance\u001b[39m(res[\u001b[38;5;124m\"\u001b[39m\u001b[38;5;124manswer_box\u001b[39m\u001b[38;5;124m\"\u001b[39m], \u001b[38;5;28mlist\u001b[39m):\n\u001b[0;32m    133\u001b[0m     res[\u001b[38;5;124m\"\u001b[39m\u001b[38;5;124manswer_box\u001b[39m\u001b[38;5;124m\"\u001b[39m] \u001b[38;5;241m=\u001b[39m res[\u001b[38;5;124m\"\u001b[39m\u001b[38;5;124manswer_box\u001b[39m\u001b[38;5;124m\"\u001b[39m][\u001b[38;5;241m0\u001b[39m]\n",
      "\u001b[1;31mValueError\u001b[0m: Got error from SerpAPI: Your account has run out of searches."
     ]
    }
   ],
   "source": [
    "# SerpApi provides rankings and makes sense of organic search results and other search results for any domain, \n",
    "# any keyword, any country, and any language for various search engines.\n",
    "from langchain import OpenAI, SerpAPIWrapper\n",
    "\n",
    "SERPAPI_API_KEY = os.getenv(\"SERPAPI_API_KEY\")\n",
    "\n",
    "params = {\n",
    "    \"engine\": \"bing\",\n",
    "    \"gl\": \"us\",\n",
    "    \"hl\": \"en\",\n",
    "}\n",
    "search = SerpAPIWrapper(serpapi_api_key = SERPAPI_API_KEY, params=params)\n",
    "\n",
    "# You can create the tool to pass to an agent\n",
    "tools = [Tool(\n",
    "    name=\"Web search\",\n",
    "    description=\"Use this tool to find the relavent information about the query, the answer should be in just one word, if the answer is not found, respond with not_found.\",\n",
    "    func=search.run,\n",
    ")]\n",
    "\n",
    "search_agent = initialize_agent(\n",
    "                                    tools, \n",
    "                                    llm, \n",
    "                                    agent=AgentType.ZERO_SHOT_REACT_DESCRIPTION, \n",
    "                                    verbose=True, \n",
    "                                    # max_execution_time=8,\n",
    "                                    max_iteration = 8,\n",
    "                                    early_stopping_method=\"generate\",\n",
    "                                    handle_parsing_errors=True,\n",
    "                                )\n",
    "res = search_agent.run(\n",
    "                    \"What is the hometown of the reigning men's U.S. Open champion?\"\n",
    "                )\n",
    "res"
   ]
  },
  {
   "cell_type": "code",
   "execution_count": null,
   "id": "c4b1dbba-4993-4951-ab6b-516113cb4afa",
   "metadata": {},
   "outputs": [],
   "source": []
  }
 ],
 "metadata": {
  "kernelspec": {
   "display_name": "Python 3 (ipykernel)",
   "language": "python",
   "name": "python3"
  },
  "language_info": {
   "codemirror_mode": {
    "name": "ipython",
    "version": 3
   },
   "file_extension": ".py",
   "mimetype": "text/x-python",
   "name": "python",
   "nbconvert_exporter": "python",
   "pygments_lexer": "ipython3",
   "version": "3.11.5"
  }
 },
 "nbformat": 4,
 "nbformat_minor": 5
}
